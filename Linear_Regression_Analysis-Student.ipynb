{
 "cells": [
  {
   "cell_type": "markdown",
   "metadata": {},
   "source": [
    "<img src=\"https://github.com/CorndelDataAnalyticsDiploma/workshop/blob/master/Corndel%20Digital%20Logo%20Centre.png?raw=true\" alt=\"Corndel\" width =\"301.5\" align=\"left\">"
   ]
  },
  {
   "cell_type": "markdown",
   "metadata": {
    "id": "_xJrtZxbh8vR"
   },
   "source": [
    "\n",
    "# Linear Regression Analysis\n",
    "\n",
    "\n",
    "In this first section we will look at the traditional stasticians approach to Linear Regression.\\\n",
    "These modles are built to gain understanding and explain how factors are contributing to an output that has a Linear Response.\\\n",
    "This traditional approach involves ensuring lots of assumptions are satisfied.\\\n",
    "We will not go into depth with these assumpitons as our focus is on building predictive models and that has a different approach.\\\n",
    "\n",
    "In the second section we will build a predictive model and asses this against our dataset.\n",
    "\n",
    "\n",
    "\n",
    "\n"
   ]
  },
  {
   "cell_type": "markdown",
   "metadata": {},
   "source": [
    "### Simple Linear Regression"
   ]
  },
  {
   "cell_type": "code",
   "execution_count": 1,
   "metadata": {
    "id": "6DrB4AD4h8vX"
   },
   "outputs": [],
   "source": [
    "# # Import all relevant libraries discuss each one\n",
    "# import matplotlib.pyplot as plt\n",
    "# import statsmodels.api as sm\n",
    "# import pandas as pd\n",
    "# import seaborn as sns\n",
    "# import os"
   ]
  },
  {
   "cell_type": "markdown",
   "metadata": {},
   "source": [
    "# Intro Simple Linear Regression\n",
    "## Step 1 EDA"
   ]
  },
  {
   "cell_type": "markdown",
   "metadata": {},
   "source": [
    "🤖`*\"How do import a csv named 'AgeSeverity_50-80.csv' into pandas ?\"*`"
   ]
  },
  {
   "cell_type": "markdown",
   "metadata": {},
   "source": [
    "#### Load in data and quick overview"
   ]
  },
  {
   "cell_type": "markdown",
   "metadata": {},
   "source": [
    "<div class=\"alert alert-block alert-warning\">\n",
    "\n",
    "-**Exploritory Data Analysis**\n",
    "    \n",
    "        -- It is crucial that we explore the data before we attempt any kind of exploration\n",
    "    "
   ]
  },
  {
   "cell_type": "code",
   "execution_count": 2,
   "metadata": {
    "scrolled": false
   },
   "outputs": [],
   "source": [
    "# Import CSV and view head\n",
    "# LOS_group = pd.read_csv('data/AgeSeverity_50-80.csv')\n",
    "# LOS_group.head()"
   ]
  },
  {
   "cell_type": "markdown",
   "metadata": {},
   "source": [
    "#### Summary statistics and DataFrame info"
   ]
  },
  {
   "cell_type": "code",
   "execution_count": 3,
   "metadata": {
    "scrolled": false
   },
   "outputs": [],
   "source": [
    "# numerical analysis of data\n"
   ]
  },
  {
   "cell_type": "code",
   "execution_count": 4,
   "metadata": {},
   "outputs": [],
   "source": [
    "# get info of dataframe\n"
   ]
  },
  {
   "cell_type": "markdown",
   "metadata": {},
   "source": [
    "#### Scatter Plot, investigate Linearity"
   ]
  },
  {
   "cell_type": "markdown",
   "metadata": {},
   "source": [
    "We will investigate whether we can build a model to predict Average Length of Stay with Age as a predictor"
   ]
  },
  {
   "cell_type": "markdown",
   "metadata": {},
   "source": [
    "🤖`*\"How do I build a scatter plot in seaborn from a dataframe names LOS_group, I want AgeOnAdmission on the x_axis and Av LOS on the y-axis, thanks?\"*`"
   ]
  },
  {
   "cell_type": "markdown",
   "metadata": {},
   "source": [
    "<div class=\"alert alert-block alert-warning\">\n",
    "    \n",
    "LLM will ask you if you would like a regression plotted on this too, Seaborn can do this, however we cannot extract the model paramters from it, Seaborn is mainly for visualisation. Further querying and LLM will direct you to use Statsmodels, Scipy or Scikit-Learn"
   ]
  },
  {
   "cell_type": "code",
   "execution_count": 5,
   "metadata": {
    "scrolled": false
   },
   "outputs": [],
   "source": [
    "# # Use seaborn to create a scatter plot of \"AgeOnAdmission\" against \"Av LOS\"\n",
    "# sns.scatterplot(data=LOS_group, x='AgeOnAdmission', y='Av LOS');"
   ]
  },
  {
   "cell_type": "markdown",
   "metadata": {},
   "source": [
    "<div class=\"alert alert-block alert-warning\">\n",
    "\n",
    "### Questions?\n",
    "    Can we see a linear relationship?\n",
    "    \n",
    "    Is it viable to proceed?\n",
    "    \n",
    "\n",
    "(We will ignore the possible presence of heteroscedasticity and move on for now, it is important for the Statisticians approach and explainability of features, but not for predictive modelling)"
   ]
  },
  {
   "cell_type": "markdown",
   "metadata": {},
   "source": [
    "# Correlation coefficient"
   ]
  },
  {
   "cell_type": "code",
   "execution_count": 6,
   "metadata": {},
   "outputs": [],
   "source": [
    "# Quantify this with the correlation coefficient\n"
   ]
  },
  {
   "cell_type": "markdown",
   "metadata": {},
   "source": [
    "## Building the Linear Model"
   ]
  },
  {
   "cell_type": "markdown",
   "metadata": {},
   "source": [
    "Statsmodels does not include an intercept by default because it gives users explicit control over model specification, unlike libraries like scikit-learn which include an intercept by default for convenience.\n",
    "\n",
    "Why this design choice?\n",
    "Transparency and statistical clarity:\n",
    "statsmodels is designed for statisticians and researchers who often want precise control over the design matrix (independent variables). Automatically adding a constant could obscure model structure or interfere with special cases (e.g., no-intercept models, fixed effects, etc.)."
   ]
  },
  {
   "cell_type": "code",
   "execution_count": 7,
   "metadata": {
    "scrolled": false
   },
   "outputs": [],
   "source": [
    "# # Build the model and print out the summary\n",
    "# # Prepare data\n",
    "# X = sm.add_constant(LOS_group['AgeOnAdmission'])  # adds intercept term\n",
    "# y = LOS_group['Av LOS']\n",
    "\n",
    "# # Fit model\n",
    "# model = sm.OLS(y, X).fit()\n",
    "# model.summary()"
   ]
  },
  {
   "cell_type": "markdown",
   "metadata": {},
   "source": [
    "<div class=\"alert alert-block alert-warning\">\n",
    "\n",
    "    --P-value a feature should have a p-value of less than 0.05 in order for us to regard it as significant in our model. A value higher than this is generally viewed to be stastically insignificant and it should be excluded from our explanitory variables\n",
    "    \n",
    "    -- R^2 is the coefficient of determination. It represents the proportion of variance in target variable due to the input variables."
   ]
  },
  {
   "cell_type": "code",
   "execution_count": 8,
   "metadata": {
    "scrolled": false
   },
   "outputs": [],
   "source": [
    "# # Using Matplotlib, pLot the model on the same chart as the data\n",
    "\n",
    "# # set up for multiple plots\n",
    "# fig, ax = plt.subplots()\n",
    "\n",
    "# # Scatter plot\n",
    "# ax.scatter(LOS_group['AgeOnAdmission'], LOS_group['Av LOS'])\n",
    "\n",
    "# # Regression line on same axes\n",
    "# sm.graphics.abline_plot(model_results=model, ax=ax, color='red')\n",
    "\n",
    "# # display the plot\n",
    "# plt.show()"
   ]
  },
  {
   "cell_type": "markdown",
   "metadata": {},
   "source": [
    "# Interpolation, Extrapolation and Outliers"
   ]
  },
  {
   "cell_type": "code",
   "execution_count": 9,
   "metadata": {
    "scrolled": false
   },
   "outputs": [],
   "source": [
    "# load in the full data and display as a scatter plot\n"
   ]
  },
  {
   "cell_type": "code",
   "execution_count": 10,
   "metadata": {
    "scrolled": false
   },
   "outputs": [],
   "source": [
    "# # Using Matplotlib, pLot the model on the same chart as the data\n",
    "\n",
    "# fig, ax = plt.subplots()\n",
    "\n",
    "# # Scatter plot\n",
    "# ax.scatter(LOS_full['AgeOnAdmission'], LOS_full['Av LOS'])\n",
    "\n",
    "# # Regression line on same axes\n",
    "# sm.graphics.abline_plot(model_results=model, ax=ax, color='red')\n",
    "\n",
    "# # Set limits\n",
    "# # ax.set(ylim=(2,11), xlim=(50,85))\n",
    "\n",
    "# plt.show()"
   ]
  },
  {
   "cell_type": "markdown",
   "metadata": {},
   "source": [
    "<div class=\"alert alert-block alert-warning\">\n",
    "\n",
    "-**Extrapolation**\n",
    "    \n",
    "     --Here we can see the dangers of extrapolation.\n",
    "    -- This isdrawing conclusions or making predictions about data outside the range of what we have previoulsy seen\n",
    "    \n",
    "    \n",
    "    \n",
    "-**Solutions**\n",
    "     \n",
    "    --There are three distinct populations, roughly 0-50, 50-90 and 90+\n",
    "    --Different ways to model this are\n",
    "        --Piecewise, seperate Linear Models of each distinct population\n",
    "        --A Non-linear regression model\n",
    "    \n",
    "-**Outliers**\n",
    "    \n",
    "    -- Do you see any outliers?\n",
    "    -- What are the options for these?"
   ]
  },
  {
   "cell_type": "markdown",
   "metadata": {},
   "source": [
    "# Menti Quiz - retrival before generative\n",
    "https://www.researchgate.net/publication/360783515_Sequence_matters_Retrieval_practice_before_generative_learning_is_more_effective_than_the_reverse_order"
   ]
  },
  {
   "cell_type": "markdown",
   "metadata": {},
   "source": [
    "# Exercise - Break out rooms\n",
    "\n",
    "Examine the results in the tables in Annex E.\\\n",
    "Note the meaning of some of the P-values, Coefficient estimates and R^2 values.\\"
   ]
  },
  {
   "cell_type": "markdown",
   "metadata": {},
   "source": [
    "https://digital.nhs.uk/data-and-information/publications/statistical/dental-working-hours/2022-23-working-patterns-motivation-and-morale/annex-e---regression-analysis-and-key-assumptions"
   ]
  },
  {
   "cell_type": "code",
   "execution_count": null,
   "metadata": {},
   "outputs": [],
   "source": []
  }
 ],
 "metadata": {
  "colab": {
   "collapsed_sections": [],
   "name": "Linear Regression.ipynb",
   "provenance": []
  },
  "kernelspec": {
   "display_name": "Python [conda env:base] *",
   "language": "python",
   "name": "conda-base-py"
  },
  "language_info": {
   "codemirror_mode": {
    "name": "ipython",
    "version": 3
   },
   "file_extension": ".py",
   "mimetype": "text/x-python",
   "name": "python",
   "nbconvert_exporter": "python",
   "pygments_lexer": "ipython3",
   "version": "3.12.3"
  },
  "toc": {
   "base_numbering": 1,
   "nav_menu": {},
   "number_sections": true,
   "sideBar": true,
   "skip_h1_title": false,
   "title_cell": "Table of Contents",
   "title_sidebar": "Contents",
   "toc_cell": false,
   "toc_position": {},
   "toc_section_display": true,
   "toc_window_display": false
  },
  "varInspector": {
   "cols": {
    "lenName": 16,
    "lenType": 16,
    "lenVar": 40
   },
   "kernels_config": {
    "python": {
     "delete_cmd_postfix": "",
     "delete_cmd_prefix": "del ",
     "library": "var_list.py",
     "varRefreshCmd": "print(var_dic_list())"
    },
    "r": {
     "delete_cmd_postfix": ") ",
     "delete_cmd_prefix": "rm(",
     "library": "var_list.r",
     "varRefreshCmd": "cat(var_dic_list()) "
    }
   },
   "types_to_exclude": [
    "module",
    "function",
    "builtin_function_or_method",
    "instance",
    "_Feature"
   ],
   "window_display": false
  }
 },
 "nbformat": 4,
 "nbformat_minor": 1
}
