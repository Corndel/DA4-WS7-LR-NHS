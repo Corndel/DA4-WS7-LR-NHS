{
 "cells": [
  {
   "cell_type": "markdown",
   "metadata": {},
   "source": [
    "<img src=\"https://github.com/CorndelDataAnalyticsDiploma/workshop/blob/master/Corndel%20Digital%20Logo%20Centre.png?raw=true\" alt=\"Corndel\" width =\"301.5\" align=\"left\">"
   ]
  },
  {
   "cell_type": "markdown",
   "metadata": {
    "id": "_xJrtZxbh8vR"
   },
   "source": [
    "# Predictive Modelling\n",
    "\n",
    "In this notebook we will build a Linear Predictive Model\n",
    "\n",
    "\n",
    "\n"
   ]
  },
  {
   "cell_type": "markdown",
   "metadata": {},
   "source": [
    "### Simple Linear Regression"
   ]
  },
  {
   "cell_type": "code",
   "execution_count": 1,
   "metadata": {
    "id": "6DrB4AD4h8vX"
   },
   "outputs": [],
   "source": [
    "# # Discuss all packages, alias and importing specific tools\n",
    "# import matplotlib.pyplot as plt\n",
    "# import statsmodels.api as sm\n",
    "# import pandas as pd\n",
    "# import seaborn as sns\n",
    "# import os\n",
    "\n",
    "# from sklearn.model_selection import train_test_split\n",
    "# from sklearn.metrics import root_mean_squared_error\n",
    "# from sklearn.metrics import mean_absolute_percentage_error\n",
    "\n"
   ]
  },
  {
   "cell_type": "markdown",
   "metadata": {},
   "source": [
    "# Multiple Linear Regression\n",
    "#### We will start with Simple Linear Regression and gradually build in more variables\n"
   ]
  },
  {
   "cell_type": "markdown",
   "metadata": {
    "id": "DOxM2a1Lh8w3"
   },
   "source": [
    "Diabetes dataset\n",
    "----------------\n",
    "\n",
    "Ten baseline variables, age, sex, body mass index, average blood\n",
    "pressure, and six blood serum measurements were obtained for each of n =\n",
    "442 diabetes patients, as well as the response of interest, a\n",
    "quantitative measure of disease progression one year after baseline.\n",
    "\n",
    "**Data Set Characteristics:**\n",
    "\n",
    "Number of Instances: 442\n",
    "\n",
    "Number of Attributes: First 10 columns are numeric predictive values\n",
    "\n",
    "Target: Column 11 is a quantitative measure of disease progression one year after baseline\n",
    "\n",
    "Attribute Information:\n",
    "- Age\n",
    "- Sex\n",
    "- Body mass index\n",
    "- Average blood pressure\n",
    "- S1\n",
    "- S2\n",
    "- S3\n",
    "- S4\n",
    "- S5\n",
    "- S6\n",
    "\n",
    "Source URL:\n",
    "http://www4.stat.ncsu.edu/~boos/var.select/diabetes.html\n",
    "\n",
    "For more information see:\n",
    "Bradley Efron, Trevor Hastie, Iain Johnstone and Robert Tibshirani (2004) \"Least Angle Regression,\" Annals of Statistics (with discussion), 407-499.\n",
    "(http://web.stanford.edu/~hastie/Papers/LARS/LeastAngle_2002.pdf)"
   ]
  },
  {
   "cell_type": "code",
   "execution_count": 2,
   "metadata": {
    "colab": {
     "base_uri": "https://localhost:8080/",
     "height": 204
    },
    "id": "xrQIFXYbh8wY",
    "outputId": "de5e7d4c-6f41-4b7b-e7a4-d5df2bdc62ed",
    "scrolled": false
   },
   "outputs": [],
   "source": [
    "# # Load the diabetes dataset and display the head\n",
    "# df_dia = pd.read_csv(\"https://www4.stat.ncsu.edu/~boos/var.select/diabetes.tab.txt\",sep=\"\\t\")\n",
    "# # or\n",
    "# # df_dia = pd.read_csv(\"data/diabetes.tab.txt\",sep=\"\\t\")\n",
    "# df_dia.head()"
   ]
  },
  {
   "cell_type": "markdown",
   "metadata": {},
   "source": [
    "<div class=\"alert alert-block alert-warning\">\n",
    "\n",
    "#### Any issues with this data?\n",
    "    \n",
    "    --Encoding of Sex is an issue\n",
    "    \n",
    "    -- We will address later but discuss now"
   ]
  },
  {
   "cell_type": "markdown",
   "metadata": {},
   "source": [
    "# Discussion on encoding\n",
    "\n",
    "Categorical encoding, ordinal, one-hot"
   ]
  },
  {
   "cell_type": "markdown",
   "metadata": {},
   "source": [
    "🤖`*\"can i encode male and female as 1 and 2 for linear regression model?\"*`"
   ]
  },
  {
   "cell_type": "markdown",
   "metadata": {},
   "source": [
    "LLM will warn of ths issues with this and offer solutions"
   ]
  },
  {
   "cell_type": "markdown",
   "metadata": {},
   "source": [
    "### Step 1, EDA and Data Viz\n"
   ]
  },
  {
   "cell_type": "markdown",
   "metadata": {},
   "source": [
    "<div class=\"alert alert-block alert-warning\">\n",
    "\n",
    "#### Examine the data, does it look like there is a linear relationship?\n",
    "#### Is a Linear model suitable?\n",
    "#### Do you see any outliers?\n",
    "#### What options do you have to deal with outliers?"
   ]
  },
  {
   "cell_type": "code",
   "execution_count": 3,
   "metadata": {},
   "outputs": [],
   "source": [
    "# Get a description of the data\n"
   ]
  },
  {
   "cell_type": "code",
   "execution_count": 4,
   "metadata": {
    "scrolled": false
   },
   "outputs": [],
   "source": [
    "# Use Pandas to generate hitograms of all columns, bins = 50 and figsize= (20,20) \n",
    "# note: no easy way to do this in Seaborn\n"
   ]
  },
  {
   "cell_type": "markdown",
   "metadata": {},
   "source": [
    "<div class=\"alert alert-block alert-warning\">\n",
    "\n",
    "# Obervations\n",
    "You will notice that BMI, S3 and target variable are all skewed.\\\n",
    "Transformations should be applied to these columns.\\\n",
    "This is covered in the extension material."
   ]
  },
  {
   "cell_type": "markdown",
   "metadata": {},
   "source": [
    "# Pairplot"
   ]
  },
  {
   "cell_type": "code",
   "execution_count": 5,
   "metadata": {
    "scrolled": false
   },
   "outputs": [],
   "source": [
    "# Use Seaborn to Generate Pair PLots\n"
   ]
  },
  {
   "cell_type": "markdown",
   "metadata": {},
   "source": [
    "<div class=\"alert alert-block alert-warning\">\n",
    "\n",
    "# Observations\n",
    "We can see S1 and S2 are highly correlated.\\\n",
    "This woul dbe an issue for Regression analysis, but does not concern us for predictive modelling"
   ]
  },
  {
   "cell_type": "markdown",
   "metadata": {},
   "source": [
    "# Train, Test Split"
   ]
  },
  {
   "cell_type": "markdown",
   "metadata": {},
   "source": [
    "We must divide the data into:\n",
    " - a Training set and \n",
    "  - a Test set \n",
    "  - with a 70:30 split\n",
    "  \n",
    "We will build the model using the training data and asses how well our model performs on the test data.\\\n",
    "https://scikit-learn.org/stable/modules/generated/sklearn.model_selection.train_test_split.html\n",
    "\n",
    "To test asses how well our model performs we will use both:\n",
    " - Root Mean Squared Error (RMSE) and \n",
    "  - Mean Absolute Percentage Error (MAPE). \n",
    "  \n",
    " We will look at these in detail later"
   ]
  },
  {
   "cell_type": "code",
   "execution_count": 6,
   "metadata": {},
   "outputs": [],
   "source": [
    "# # Examine columns again\n",
    "# df_dia.columns"
   ]
  },
  {
   "cell_type": "code",
   "execution_count": 7,
   "metadata": {},
   "outputs": [],
   "source": [
    "# Assign Inputs to X and output to y, i copied and pasted from above\n"
   ]
  },
  {
   "cell_type": "code",
   "execution_count": 8,
   "metadata": {},
   "outputs": [],
   "source": [
    "# # Use Scikit-Learn to get Traiing and test sets\n",
    "# X_train, X_test, y_train, y_test = train_test_split(X, y, \n",
    "#                                                     test_size=0.30, \n",
    "#                                                     random_state=42)"
   ]
  },
  {
   "cell_type": "markdown",
   "metadata": {},
   "source": [
    "<div class=\"alert alert-block alert-warning\">\n",
    "\n",
    "# Discussion\n",
    "Discuss train and Test Split"
   ]
  },
  {
   "cell_type": "markdown",
   "metadata": {},
   "source": [
    "<img src=\"Data/TrainTestDiagram.png\" alt=\"Corndel\" width =\"600\" align=\"centre\">"
   ]
  },
  {
   "cell_type": "markdown",
   "metadata": {},
   "source": [
    "There are many more ways to split data for model training and evaluation and these are covered in the extension material"
   ]
  },
  {
   "cell_type": "markdown",
   "metadata": {},
   "source": [
    "Examining the test and train sets\\\n",
    "Discussion about Stratfied samples and an exporation of them below"
   ]
  },
  {
   "cell_type": "markdown",
   "metadata": {},
   "source": [
    "<img src=\"Data/Stratified.jpg\" alt=\"Corndel\" width =\"600\" align=\"centre\">"
   ]
  },
  {
   "cell_type": "code",
   "execution_count": 9,
   "metadata": {
    "scrolled": true
   },
   "outputs": [],
   "source": [
    "# # Numerically examine the X_train split\n",
    "# X_train.describe().round(2)"
   ]
  },
  {
   "cell_type": "code",
   "execution_count": 10,
   "metadata": {
    "scrolled": true
   },
   "outputs": [],
   "source": [
    "# # Numerically examine the X_test split\n",
    "\n",
    "# X_test.describe().round(2)"
   ]
  },
  {
   "cell_type": "markdown",
   "metadata": {},
   "source": [
    "<div class=\"alert alert-block alert-warning\">\n",
    "\n",
    "# Discussion\n",
    "    What do you notice about the two samples?\n",
    "    In which ways are they similar?\n",
    "    In which ways are they dissimilar?"
   ]
  },
  {
   "cell_type": "code",
   "execution_count": 11,
   "metadata": {
    "scrolled": true
   },
   "outputs": [],
   "source": [
    "# Numerically examine the y_train split\n"
   ]
  },
  {
   "cell_type": "code",
   "execution_count": 12,
   "metadata": {
    "scrolled": false
   },
   "outputs": [],
   "source": [
    "# Numerically examine the y_test split\n"
   ]
  },
  {
   "cell_type": "markdown",
   "metadata": {},
   "source": [
    "# Simple Linear Regression"
   ]
  },
  {
   "cell_type": "markdown",
   "metadata": {},
   "source": [
    "### We will build our first model using the S5 marker"
   ]
  },
  {
   "cell_type": "code",
   "execution_count": 13,
   "metadata": {
    "scrolled": false
   },
   "outputs": [],
   "source": [
    "# # Use Seaborn to create a scatter plot of S5 against Y\n",
    "# sns.scatterplot(data=df_dia, x=\"S5\", y=\"Y\");"
   ]
  },
  {
   "cell_type": "code",
   "execution_count": 14,
   "metadata": {},
   "outputs": [],
   "source": [
    "# # Fit the model and make predictions\n",
    "# # Prepare data\n",
    "# # You will note that we do not print out a model summary anymore\n",
    "# # In this instance we are not concered about that, our focus is how well we can make predictions\n",
    "\n",
    "# # Selected inputs\n",
    "# X = sm.add_constant(X_train['S5'])\n",
    "# y = y_train\n",
    "\n",
    "# # Fit model\n",
    "# model = sm.OLS(y, X).fit()\n",
    "\n",
    "# # make predictions\n",
    "# predictions = model.predict(sm.add_constant(X_test['S5']))\n"
   ]
  },
  {
   "cell_type": "markdown",
   "metadata": {},
   "source": [
    "### Examint the output, look at the predictions and the test set\n",
    "Notice how the indexes line up, now we can get metrics for our results"
   ]
  },
  {
   "cell_type": "code",
   "execution_count": 15,
   "metadata": {
    "scrolled": true
   },
   "outputs": [],
   "source": [
    "# # examine predictions\n"
   ]
  },
  {
   "cell_type": "code",
   "execution_count": 16,
   "metadata": {
    "scrolled": false
   },
   "outputs": [],
   "source": [
    "# # examine true values\n"
   ]
  },
  {
   "cell_type": "markdown",
   "metadata": {},
   "source": [
    "<div class=\"alert alert-block alert-warning\">\n",
    "\n",
    "# Discussion\n",
    "    What do you notice about the two samples?\n",
    "    In which ways are they similar?\n",
    "    In which ways are they dissimilar?"
   ]
  },
  {
   "cell_type": "markdown",
   "metadata": {},
   "source": [
    "## Root Mean Squared Error\n",
    "This measures how many \"units\" we are off on average.\\\n",
    "The \"Root Mean Squared\" ensures it is always positive, not necessary to understand\\\n",
    "https://en.wikipedia.org/wiki/Root_mean_square_deviation"
   ]
  },
  {
   "cell_type": "code",
   "execution_count": 17,
   "metadata": {},
   "outputs": [],
   "source": [
    "# # Using Scikit-Learn Package to calculate RMSE\n",
    "# rmse = root_mean_squared_error(y_test, predictions).round(2)\n",
    "# print(f'RMSE: {rmse}')"
   ]
  },
  {
   "cell_type": "markdown",
   "metadata": {},
   "source": [
    "## Mean Absolute Percentage Error\n",
    "This measures what percentage we are off on average.\\\n",
    "The \"Absolute\" ensures it is always positive, not necessary to understand\\\n",
    "https://en.wikipedia.org/wiki/Mean_absolute_percentage_error"
   ]
  },
  {
   "cell_type": "code",
   "execution_count": 18,
   "metadata": {},
   "outputs": [],
   "source": [
    "# # # Using Scikit-Learn Package to calculate RMSE\n",
    "# mape = mean_absolute_percentage_error(y_test, pred).round(2)*100\n",
    "# print(f'MAPE: {mape}%')"
   ]
  },
  {
   "cell_type": "markdown",
   "metadata": {},
   "source": [
    "# Multiple Linear Regression\n",
    "Lets now add in some variables and see how our results change"
   ]
  },
  {
   "cell_type": "code",
   "execution_count": 19,
   "metadata": {},
   "outputs": [],
   "source": [
    "# Look at the head of the training inputs again\n"
   ]
  },
  {
   "cell_type": "markdown",
   "metadata": {},
   "source": [
    "Lets add in BMI"
   ]
  },
  {
   "cell_type": "code",
   "execution_count": 20,
   "metadata": {},
   "outputs": [],
   "source": [
    "# Create a list called \"inputs\" with \"S5\" and \"BMI\" as elements. \n",
    "# Note notation for lists is []\n"
   ]
  },
  {
   "cell_type": "code",
   "execution_count": 21,
   "metadata": {},
   "outputs": [],
   "source": [
    "# # Fit the model with both inputs, and calculte the new RMSE and MAPE Scores\n",
    "\n",
    "# X = sm.add_constant(X_train[inputs])  # adds intercept term\n",
    "# y = y_train\n",
    "\n",
    "# # Fit model\n",
    "# model = sm.OLS(y, X).fit()\n",
    "\n",
    "# # make predictions\n",
    "# pred = model.predict(sm.add_constant(X_test[inputs]))\n",
    "\n",
    "# rmse_2 = root_mean_squared_error(y_test, pred).round(2)\n",
    "# print(f'RMSE_2: {rmse_2}')\n",
    "\n",
    "# mape_2 = mean_absolute_percentage_error(y_test, pred).round(2)*100\n",
    "# print(f'MAPE_2: {mape_2}')"
   ]
  },
  {
   "cell_type": "code",
   "execution_count": 22,
   "metadata": {},
   "outputs": [],
   "source": [
    "# # Compare these new scores to the previous\n",
    "# rmse_2 = root_mean_squared_error(y_test, pred).round(2)\n",
    "# print(f'RMSE_2: {rmse_2}, Previous RMSE: {rmse}, Improvement = {(rmse - rmse_2).round(2)}' )\n",
    "\n",
    "# mape_2 = mean_absolute_percentage_error(y_test, pred).round(2)*100\n",
    "# print(f'MAPE_2: {mape_2}%  Previous MAPE: {mape}%, Improvement = {(mape - mape_2).round(2)}%')"
   ]
  },
  {
   "cell_type": "markdown",
   "metadata": {},
   "source": [
    "<div class=\"alert alert-block alert-warning\">\n",
    "\n",
    "# Observations\n",
    "    We can see here that we have made a marginal inprovement by Adding BMI"
   ]
  },
  {
   "cell_type": "markdown",
   "metadata": {},
   "source": [
    "# Menti for Quiz on Terms"
   ]
  },
  {
   "cell_type": "markdown",
   "metadata": {},
   "source": [
    "# Fix the SEX column"
   ]
  },
  {
   "cell_type": "code",
   "execution_count": 23,
   "metadata": {},
   "outputs": [],
   "source": [
    "# # Replacing 1 and 2 with 0 and 1 as previously discussed\n",
    "# df_dia['SEX'] = df_dia['SEX'].replace({1: 0, 2: 1})"
   ]
  },
  {
   "cell_type": "markdown",
   "metadata": {},
   "source": [
    "# Explore adding more features\n",
    "Use the code below as a template to add more features and asses any changes in output\\\n",
    "A good idea would be to save the metrics as element in a dictionary to compare results"
   ]
  },
  {
   "cell_type": "code",
   "execution_count": 24,
   "metadata": {},
   "outputs": [],
   "source": [
    "# # Creating a dict to hold results\n",
    "# results = {}"
   ]
  },
  {
   "cell_type": "code",
   "execution_count": 25,
   "metadata": {},
   "outputs": [],
   "source": [
    "# # look at features\n",
    "# X_train.head()"
   ]
  },
  {
   "cell_type": "markdown",
   "metadata": {},
   "source": [
    "# Run the two cells below repeatidly with different inputs then examine the dictionary of stored results"
   ]
  },
  {
   "cell_type": "code",
   "execution_count": 26,
   "metadata": {},
   "outputs": [],
   "source": [
    "# # Select features\n",
    "\n",
    "# inputs = [.......]"
   ]
  },
  {
   "cell_type": "code",
   "execution_count": 27,
   "metadata": {},
   "outputs": [],
   "source": [
    "# # Fit the model with both inputs, and calculte the new RMSE and MAPE Scores\n",
    "\n",
    "# X = sm.add_constant(X_train[inputs])  # adds intercept term\n",
    "# y = y_train\n",
    "\n",
    "# # Fit model\n",
    "# model = sm.OLS(y, X).fit()\n",
    "\n",
    "# # make predictions\n",
    "# pred = model.predict(sm.add_constant(X_test[inputs]))\n",
    "\n",
    "\n",
    "# # be aware of overwriting previous results, by calling this variable \"rmse\" we overwrite what was previously stored \n",
    "# rmse = root_mean_squared_error(y_test, pred).round(2)\n",
    "# # printing results\n",
    "# print(f'RMSE: {rmse}')\n",
    "\n",
    "\n",
    "\n",
    "# # be aware of overwriting previous results, by calling this variable \"mape\" we overwrite what was previously stored \n",
    "# mape = mean_absolute_percentage_error(y_test, pred).round(2)*100\n",
    "# # printing results\n",
    "# print(f'MAPE: {mape}')\n",
    "\n",
    "\n",
    "\n",
    "# # adding result to dict\n",
    "# results[str(inputs)] = {'RMSE':rmse, \"MAPE\": mape}\n"
   ]
  },
  {
   "cell_type": "code",
   "execution_count": 28,
   "metadata": {},
   "outputs": [],
   "source": [
    "# # Printing out dict of results\n",
    "# results"
   ]
  }
 ],
 "metadata": {
  "colab": {
   "collapsed_sections": [],
   "name": "Linear Regression.ipynb",
   "provenance": []
  },
  "kernelspec": {
   "display_name": "Python [conda env:base] *",
   "language": "python",
   "name": "conda-base-py"
  },
  "language_info": {
   "codemirror_mode": {
    "name": "ipython",
    "version": 3
   },
   "file_extension": ".py",
   "mimetype": "text/x-python",
   "name": "python",
   "nbconvert_exporter": "python",
   "pygments_lexer": "ipython3",
   "version": "3.12.3"
  },
  "toc": {
   "base_numbering": 1,
   "nav_menu": {},
   "number_sections": true,
   "sideBar": true,
   "skip_h1_title": false,
   "title_cell": "Table of Contents",
   "title_sidebar": "Contents",
   "toc_cell": false,
   "toc_position": {},
   "toc_section_display": true,
   "toc_window_display": false
  },
  "varInspector": {
   "cols": {
    "lenName": 16,
    "lenType": 16,
    "lenVar": 40
   },
   "kernels_config": {
    "python": {
     "delete_cmd_postfix": "",
     "delete_cmd_prefix": "del ",
     "library": "var_list.py",
     "varRefreshCmd": "print(var_dic_list())"
    },
    "r": {
     "delete_cmd_postfix": ") ",
     "delete_cmd_prefix": "rm(",
     "library": "var_list.r",
     "varRefreshCmd": "cat(var_dic_list()) "
    }
   },
   "types_to_exclude": [
    "module",
    "function",
    "builtin_function_or_method",
    "instance",
    "_Feature"
   ],
   "window_display": false
  }
 },
 "nbformat": 4,
 "nbformat_minor": 1
}
