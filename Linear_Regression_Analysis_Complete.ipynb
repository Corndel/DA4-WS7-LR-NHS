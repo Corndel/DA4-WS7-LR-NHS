{
 "cells": [
  {
   "cell_type": "markdown",
   "metadata": {},
   "source": [
    "<img src=\"https://github.com/CorndelDataAnalyticsDiploma/workshop/blob/master/Corndel%20Digital%20Logo%20Centre.png?raw=true\" alt=\"Corndel\" width =\"301.5\" align=\"left\">"
   ]
  },
  {
   "cell_type": "markdown",
   "metadata": {
    "id": "_xJrtZxbh8vR"
   },
   "source": [
    "\n",
    "# Linear Regression Analysis\n",
    "\n",
    "\n",
    "In this first section we will look at the traditional stasticians approach to Linear Regression.\\\n",
    "These modles are built to gain understanding and explain how factors are contributing to an output that has a Linear Response.\\\n",
    "This traditional approach involves ensuring lots of assumptions are satisfied.\\\n",
    "We will not go into depth with these assumpitons as our focus is on building predictive models and that has a different approach.\\\n",
    "\n",
    "In the second section we will build a predictive model and asses this against our dataset.\n",
    "\n",
    "\n",
    "\n",
    "\n"
   ]
  },
  {
   "cell_type": "markdown",
   "metadata": {},
   "source": [
    "### Simple Linear Regression"
   ]
  },
  {
   "cell_type": "code",
   "execution_count": 1,
   "metadata": {
    "id": "6DrB4AD4h8vX"
   },
   "outputs": [],
   "source": [
    "# Import all relevant libraries discuss each one\n",
    "\n",
    "import matplotlib.pyplot as plt\n",
    "import statsmodels.api as sm\n",
    "\n",
    "import math\n",
    "import pandas as pd\n",
    "\n",
    "import seaborn as sns\n",
    "\n",
    "import os"
   ]
  },
  {
   "cell_type": "markdown",
   "metadata": {},
   "source": [
    "# Intro Simple Linear Regression\n",
    "## Step 1 EDA"
   ]
  },
  {
   "cell_type": "markdown",
   "metadata": {},
   "source": [
    "🤖`*\"How do import a csv named 'AgeSeverity_50-80.csv' into pandas ?\"*`"
   ]
  },
  {
   "cell_type": "markdown",
   "metadata": {},
   "source": [
    "#### Load in data and quick overview"
   ]
  },
  {
   "cell_type": "markdown",
   "metadata": {},
   "source": [
    "<div class=\"alert alert-block alert-warning\">\n",
    "\n",
    "-**Exploritory Data Analysis**\n",
    "    \n",
    "        -- It is crucial that we explore the data before we attempt any kind of modelling"
   ]
  },
  {
   "cell_type": "code",
   "execution_count": 2,
   "metadata": {
    "scrolled": false
   },
   "outputs": [
    {
     "data": {
      "text/html": [
       "<div>\n",
       "<style scoped>\n",
       "    .dataframe tbody tr th:only-of-type {\n",
       "        vertical-align: middle;\n",
       "    }\n",
       "\n",
       "    .dataframe tbody tr th {\n",
       "        vertical-align: top;\n",
       "    }\n",
       "\n",
       "    .dataframe thead th {\n",
       "        text-align: right;\n",
       "    }\n",
       "</style>\n",
       "<table border=\"1\" class=\"dataframe\">\n",
       "  <thead>\n",
       "    <tr style=\"text-align: right;\">\n",
       "      <th></th>\n",
       "      <th>AgeOnAdmission</th>\n",
       "      <th>spells</th>\n",
       "      <th>LOS</th>\n",
       "      <th>Av LOS</th>\n",
       "      <th>Severity</th>\n",
       "    </tr>\n",
       "  </thead>\n",
       "  <tbody>\n",
       "    <tr>\n",
       "      <th>0</th>\n",
       "      <td>50</td>\n",
       "      <td>74</td>\n",
       "      <td>259</td>\n",
       "      <td>3.500000</td>\n",
       "      <td>5</td>\n",
       "    </tr>\n",
       "    <tr>\n",
       "      <th>1</th>\n",
       "      <td>51</td>\n",
       "      <td>91</td>\n",
       "      <td>366</td>\n",
       "      <td>4.021978</td>\n",
       "      <td>4</td>\n",
       "    </tr>\n",
       "    <tr>\n",
       "      <th>2</th>\n",
       "      <td>52</td>\n",
       "      <td>78</td>\n",
       "      <td>319</td>\n",
       "      <td>4.089744</td>\n",
       "      <td>5</td>\n",
       "    </tr>\n",
       "    <tr>\n",
       "      <th>3</th>\n",
       "      <td>53</td>\n",
       "      <td>109</td>\n",
       "      <td>500</td>\n",
       "      <td>4.587156</td>\n",
       "      <td>5</td>\n",
       "    </tr>\n",
       "    <tr>\n",
       "      <th>4</th>\n",
       "      <td>54</td>\n",
       "      <td>99</td>\n",
       "      <td>425</td>\n",
       "      <td>4.292929</td>\n",
       "      <td>5</td>\n",
       "    </tr>\n",
       "  </tbody>\n",
       "</table>\n",
       "</div>"
      ],
      "text/plain": [
       "   AgeOnAdmission   spells   LOS    Av LOS  Severity\n",
       "0              50       74   259  3.500000         5\n",
       "1              51       91   366  4.021978         4\n",
       "2              52       78   319  4.089744         5\n",
       "3              53      109   500  4.587156         5\n",
       "4              54       99   425  4.292929         5"
      ]
     },
     "execution_count": 2,
     "metadata": {},
     "output_type": "execute_result"
    }
   ],
   "source": [
    "# Import CSV and view head\n",
    "LOS_group = pd.read_csv('data/AgeSeverity_50-80.csv')\n",
    "LOS_group.head()"
   ]
  },
  {
   "cell_type": "markdown",
   "metadata": {},
   "source": [
    "#### Summary statistics and DataFrame info"
   ]
  },
  {
   "cell_type": "code",
   "execution_count": 3,
   "metadata": {
    "scrolled": false
   },
   "outputs": [
    {
     "data": {
      "text/html": [
       "<div>\n",
       "<style scoped>\n",
       "    .dataframe tbody tr th:only-of-type {\n",
       "        vertical-align: middle;\n",
       "    }\n",
       "\n",
       "    .dataframe tbody tr th {\n",
       "        vertical-align: top;\n",
       "    }\n",
       "\n",
       "    .dataframe thead th {\n",
       "        text-align: right;\n",
       "    }\n",
       "</style>\n",
       "<table border=\"1\" class=\"dataframe\">\n",
       "  <thead>\n",
       "    <tr style=\"text-align: right;\">\n",
       "      <th></th>\n",
       "      <th>AgeOnAdmission</th>\n",
       "      <th>spells</th>\n",
       "      <th>LOS</th>\n",
       "      <th>Av LOS</th>\n",
       "      <th>Severity</th>\n",
       "    </tr>\n",
       "  </thead>\n",
       "  <tbody>\n",
       "    <tr>\n",
       "      <th>count</th>\n",
       "      <td>36.000000</td>\n",
       "      <td>36.000000</td>\n",
       "      <td>36.000000</td>\n",
       "      <td>36.000000</td>\n",
       "      <td>36.000000</td>\n",
       "    </tr>\n",
       "    <tr>\n",
       "      <th>mean</th>\n",
       "      <td>67.500000</td>\n",
       "      <td>166.388889</td>\n",
       "      <td>1245.250000</td>\n",
       "      <td>6.960965</td>\n",
       "      <td>3.972222</td>\n",
       "    </tr>\n",
       "    <tr>\n",
       "      <th>std</th>\n",
       "      <td>10.535654</td>\n",
       "      <td>54.822976</td>\n",
       "      <td>686.972962</td>\n",
       "      <td>2.058684</td>\n",
       "      <td>0.736250</td>\n",
       "    </tr>\n",
       "    <tr>\n",
       "      <th>min</th>\n",
       "      <td>50.000000</td>\n",
       "      <td>74.000000</td>\n",
       "      <td>259.000000</td>\n",
       "      <td>3.500000</td>\n",
       "      <td>3.000000</td>\n",
       "    </tr>\n",
       "    <tr>\n",
       "      <th>25%</th>\n",
       "      <td>58.750000</td>\n",
       "      <td>129.750000</td>\n",
       "      <td>669.500000</td>\n",
       "      <td>5.177288</td>\n",
       "      <td>3.000000</td>\n",
       "    </tr>\n",
       "    <tr>\n",
       "      <th>50%</th>\n",
       "      <td>67.500000</td>\n",
       "      <td>159.000000</td>\n",
       "      <td>1080.500000</td>\n",
       "      <td>6.872807</td>\n",
       "      <td>4.000000</td>\n",
       "    </tr>\n",
       "    <tr>\n",
       "      <th>75%</th>\n",
       "      <td>76.250000</td>\n",
       "      <td>223.000000</td>\n",
       "      <td>1884.000000</td>\n",
       "      <td>8.488800</td>\n",
       "      <td>4.250000</td>\n",
       "    </tr>\n",
       "    <tr>\n",
       "      <th>max</th>\n",
       "      <td>85.000000</td>\n",
       "      <td>258.000000</td>\n",
       "      <td>2533.000000</td>\n",
       "      <td>11.013043</td>\n",
       "      <td>5.000000</td>\n",
       "    </tr>\n",
       "  </tbody>\n",
       "</table>\n",
       "</div>"
      ],
      "text/plain": [
       "       AgeOnAdmission      spells          LOS     Av LOS   Severity\n",
       "count       36.000000   36.000000    36.000000  36.000000  36.000000\n",
       "mean        67.500000  166.388889  1245.250000   6.960965   3.972222\n",
       "std         10.535654   54.822976   686.972962   2.058684   0.736250\n",
       "min         50.000000   74.000000   259.000000   3.500000   3.000000\n",
       "25%         58.750000  129.750000   669.500000   5.177288   3.000000\n",
       "50%         67.500000  159.000000  1080.500000   6.872807   4.000000\n",
       "75%         76.250000  223.000000  1884.000000   8.488800   4.250000\n",
       "max         85.000000  258.000000  2533.000000  11.013043   5.000000"
      ]
     },
     "execution_count": 3,
     "metadata": {},
     "output_type": "execute_result"
    }
   ],
   "source": [
    "# numerical analysis of data\n",
    "\n",
    "LOS_group.describe()"
   ]
  },
  {
   "cell_type": "code",
   "execution_count": 4,
   "metadata": {},
   "outputs": [
    {
     "name": "stdout",
     "output_type": "stream",
     "text": [
      "<class 'pandas.core.frame.DataFrame'>\n",
      "RangeIndex: 36 entries, 0 to 35\n",
      "Data columns (total 5 columns):\n",
      " #   Column          Non-Null Count  Dtype  \n",
      "---  ------          --------------  -----  \n",
      " 0   AgeOnAdmission  36 non-null     int64  \n",
      " 1    spells         36 non-null     int64  \n",
      " 2    LOS            36 non-null     int64  \n",
      " 3   Av LOS          36 non-null     float64\n",
      " 4   Severity        36 non-null     int64  \n",
      "dtypes: float64(1), int64(4)\n",
      "memory usage: 1.5 KB\n"
     ]
    }
   ],
   "source": [
    "# get info of dataframe\n",
    "\n",
    "LOS_group.info()"
   ]
  },
  {
   "cell_type": "markdown",
   "metadata": {},
   "source": [
    "#### Scatter Plot, investigate Linearity"
   ]
  },
  {
   "cell_type": "markdown",
   "metadata": {},
   "source": [
    "We will investigate whether we can build a model to predict Average Length of Stay with Age as a predictor"
   ]
  },
  {
   "cell_type": "markdown",
   "metadata": {},
   "source": [
    "🤖`*\"How do I build a scatter plot in seaborn from a dataframe names LOS_group, I want AgeOnAdmission on the x_axis and Av LOS on the y-axis, thanks?\"*`"
   ]
  },
  {
   "cell_type": "markdown",
   "metadata": {},
   "source": [
    "<div class=\"alert alert-block alert-warning\">\n",
    "    \n",
    "LLM will ask you if you would like a regression plotted on this too, Seaborn can do this, however we cannot extract the model paramters from it, Seaborn is mainly for visualisation. Further querying and LLM will direct you to use Statsmodels, Scipy or Scikit-Learn"
   ]
  },
  {
   "cell_type": "code",
   "execution_count": 6,
   "metadata": {
    "scrolled": false
   },
   "outputs": [
    {
     "data": {
      "image/png": "[encoded data removed]",
      "text/plain": [
       "<Figure size 640x480 with 1 Axes>"
      ]
     },
     "metadata": {},
     "output_type": "display_data"
    }
   ],
   "source": [
    "# Use seaborn to create a scatter plot of \"AgeOnAdmission\" against \"Av LOS\"\n",
    "\n",
    "sns.scatterplot(data=LOS_group, x=\"AgeOnAdmission\", y=\"Av LOS\");"
   ]
  },
  {
   "cell_type": "markdown",
   "metadata": {},
   "source": [
    "<div class=\"alert alert-block alert-warning\">\n",
    "\n",
    "### Questions?\n",
    "    Can we see a linear relationship?\n",
    "    \n",
    "    Is it viable to proceed?\n",
    "    \n",
    "\n",
    "(We will ignore the possible presence of heteroscedasticity and move on for now, it is important for the Statisticians approach and explainability of features, but not for predictive modelling)"
   ]
  },
  {
   "cell_type": "markdown",
   "metadata": {},
   "source": [
    "# Correlation coefficient"
   ]
  },
  {
   "cell_type": "code",
   "execution_count": 11,
   "metadata": {},
   "outputs": [
    {
     "data": {
      "text/plain": [
       "0.88"
      ]
     },
     "execution_count": 11,
     "metadata": {},
     "output_type": "execute_result"
    }
   ],
   "source": [
    "# Quantify this with the correlation coefficient\n",
    "\n",
    "LOS_group['AgeOnAdmission'].corr(LOS_group[\"Av LOS\"]).round(2)"
   ]
  },
  {
   "cell_type": "markdown",
   "metadata": {},
   "source": [
    "## Building the Linear Model"
   ]
  },
  {
   "cell_type": "markdown",
   "metadata": {},
   "source": [
    "Statsmodels does not include an intercept by default because it gives users explicit control over model specification, unlike libraries like scikit-learn which include an intercept by default for convenience.\n",
    "\n",
    "Why this design choice?\n",
    "Transparency and statistical clarity:\n",
    "statsmodels is designed for statisticians and researchers who often want precise control over the design matrix (independent variables). Automatically adding a constant could obscure model structure or interfere with special cases (e.g., no-intercept models, fixed effects, etc.)."
   ]
  },
  {
   "cell_type": "code",
   "execution_count": 75,
   "metadata": {
    "scrolled": false
   },
   "outputs": [
    {
     "data": {
      "text/html": [
       "<table class=\"simpletable\">\n",
       "<caption>OLS Regression Results</caption>\n",
       "<tr>\n",
       "  <th>Dep. Variable:</th>         <td>Av LOS</td>      <th>  R-squared:         </th> <td>   0.779</td>\n",
       "</tr>\n",
       "<tr>\n",
       "  <th>Model:</th>                   <td>OLS</td>       <th>  Adj. R-squared:    </th> <td>   0.772</td>\n",
       "</tr>\n",
       "<tr>\n",
       "  <th>Method:</th>             <td>Least Squares</td>  <th>  F-statistic:       </th> <td>   119.8</td>\n",
       "</tr>\n",
       "<tr>\n",
       "  <th>Date:</th>             <td>Mon, 05 May 2025</td> <th>  Prob (F-statistic):</th> <td>1.10e-12</td>\n",
       "</tr>\n",
       "<tr>\n",
       "  <th>Time:</th>                 <td>19:20:07</td>     <th>  Log-Likelihood:    </th> <td> -49.402</td>\n",
       "</tr>\n",
       "<tr>\n",
       "  <th>No. Observations:</th>      <td>    36</td>      <th>  AIC:               </th> <td>   102.8</td>\n",
       "</tr>\n",
       "<tr>\n",
       "  <th>Df Residuals:</th>          <td>    34</td>      <th>  BIC:               </th> <td>   106.0</td>\n",
       "</tr>\n",
       "<tr>\n",
       "  <th>Df Model:</th>              <td>     1</td>      <th>                     </th>     <td> </td>   \n",
       "</tr>\n",
       "<tr>\n",
       "  <th>Covariance Type:</th>      <td>nonrobust</td>    <th>                     </th>     <td> </td>   \n",
       "</tr>\n",
       "</table>\n",
       "<table class=\"simpletable\">\n",
       "<tr>\n",
       "         <td></td>           <th>coef</th>     <th>std err</th>      <th>t</th>      <th>P>|t|</th>  <th>[0.025</th>    <th>0.975]</th>  \n",
       "</tr>\n",
       "<tr>\n",
       "  <th>const</th>          <td>   -4.6798</td> <td>    1.076</td> <td>   -4.349</td> <td> 0.000</td> <td>   -6.867</td> <td>   -2.493</td>\n",
       "</tr>\n",
       "<tr>\n",
       "  <th>AgeOnAdmission</th> <td>    0.1725</td> <td>    0.016</td> <td>   10.945</td> <td> 0.000</td> <td>    0.140</td> <td>    0.204</td>\n",
       "</tr>\n",
       "</table>\n",
       "<table class=\"simpletable\">\n",
       "<tr>\n",
       "  <th>Omnibus:</th>       <td> 1.182</td> <th>  Durbin-Watson:     </th> <td>   2.397</td>\n",
       "</tr>\n",
       "<tr>\n",
       "  <th>Prob(Omnibus):</th> <td> 0.554</td> <th>  Jarque-Bera (JB):  </th> <td>   1.134</td>\n",
       "</tr>\n",
       "<tr>\n",
       "  <th>Skew:</th>          <td> 0.390</td> <th>  Prob(JB):          </th> <td>   0.567</td>\n",
       "</tr>\n",
       "<tr>\n",
       "  <th>Kurtosis:</th>      <td> 2.615</td> <th>  Cond. No.          </th> <td>    449.</td>\n",
       "</tr>\n",
       "</table><br/><br/>Notes:<br/>[1] Standard Errors assume that the covariance matrix of the errors is correctly specified."
      ],
      "text/latex": [
       "\\begin{center}\n",
       "\\begin{tabular}{lclc}\n",
       "\\toprule\n",
       "\\textbf{Dep. Variable:}    &      Av LOS      & \\textbf{  R-squared:         } &     0.779   \\\\\n",
       "\\textbf{Model:}            &       OLS        & \\textbf{  Adj. R-squared:    } &     0.772   \\\\\n",
       "\\textbf{Method:}           &  Least Squares   & \\textbf{  F-statistic:       } &     119.8   \\\\\n",
       "\\textbf{Date:}             & Mon, 05 May 2025 & \\textbf{  Prob (F-statistic):} &  1.10e-12   \\\\\n",
       "\\textbf{Time:}             &     19:20:07     & \\textbf{  Log-Likelihood:    } &   -49.402   \\\\\n",
       "\\textbf{No. Observations:} &          36      & \\textbf{  AIC:               } &     102.8   \\\\\n",
       "\\textbf{Df Residuals:}     &          34      & \\textbf{  BIC:               } &     106.0   \\\\\n",
       "\\textbf{Df Model:}         &           1      & \\textbf{                     } &             \\\\\n",
       "\\textbf{Covariance Type:}  &    nonrobust     & \\textbf{                     } &             \\\\\n",
       "\\bottomrule\n",
       "\\end{tabular}\n",
       "\\begin{tabular}{lcccccc}\n",
       "                        & \\textbf{coef} & \\textbf{std err} & \\textbf{t} & \\textbf{P$> |$t$|$} & \\textbf{[0.025} & \\textbf{0.975]}  \\\\\n",
       "\\midrule\n",
       "\\textbf{const}          &      -4.6798  &        1.076     &    -4.349  &         0.000        &       -6.867    &       -2.493     \\\\\n",
       "\\textbf{AgeOnAdmission} &       0.1725  &        0.016     &    10.945  &         0.000        &        0.140    &        0.204     \\\\\n",
       "\\bottomrule\n",
       "\\end{tabular}\n",
       "\\begin{tabular}{lclc}\n",
       "\\textbf{Omnibus:}       &  1.182 & \\textbf{  Durbin-Watson:     } &    2.397  \\\\\n",
       "\\textbf{Prob(Omnibus):} &  0.554 & \\textbf{  Jarque-Bera (JB):  } &    1.134  \\\\\n",
       "\\textbf{Skew:}          &  0.390 & \\textbf{  Prob(JB):          } &    0.567  \\\\\n",
       "\\textbf{Kurtosis:}      &  2.615 & \\textbf{  Cond. No.          } &     449.  \\\\\n",
       "\\bottomrule\n",
       "\\end{tabular}\n",
       "%\\caption{OLS Regression Results}\n",
       "\\end{center}\n",
       "\n",
       "Notes: \\newline\n",
       " [1] Standard Errors assume that the covariance matrix of the errors is correctly specified."
      ],
      "text/plain": [
       "<class 'statsmodels.iolib.summary.Summary'>\n",
       "\"\"\"\n",
       "                            OLS Regression Results                            \n",
       "==============================================================================\n",
       "Dep. Variable:                 Av LOS   R-squared:                       0.779\n",
       "Model:                            OLS   Adj. R-squared:                  0.772\n",
       "Method:                 Least Squares   F-statistic:                     119.8\n",
       "Date:                Mon, 05 May 2025   Prob (F-statistic):           1.10e-12\n",
       "Time:                        19:20:07   Log-Likelihood:                -49.402\n",
       "No. Observations:                  36   AIC:                             102.8\n",
       "Df Residuals:                      34   BIC:                             106.0\n",
       "Df Model:                           1                                         \n",
       "Covariance Type:            nonrobust                                         \n",
       "==================================================================================\n",
       "                     coef    std err          t      P>|t|      [0.025      0.975]\n",
       "----------------------------------------------------------------------------------\n",
       "const             -4.6798      1.076     -4.349      0.000      -6.867      -2.493\n",
       "AgeOnAdmission     0.1725      0.016     10.945      0.000       0.140       0.204\n",
       "==============================================================================\n",
       "Omnibus:                        1.182   Durbin-Watson:                   2.397\n",
       "Prob(Omnibus):                  0.554   Jarque-Bera (JB):                1.134\n",
       "Skew:                           0.390   Prob(JB):                        0.567\n",
       "Kurtosis:                       2.615   Cond. No.                         449.\n",
       "==============================================================================\n",
       "\n",
       "Notes:\n",
       "[1] Standard Errors assume that the covariance matrix of the errors is correctly specified.\n",
       "\"\"\""
      ]
     },
     "execution_count": 75,
     "metadata": {},
     "output_type": "execute_result"
    }
   ],
   "source": [
    "# Build the model and print out the summary\n",
    "# Prepare data\n",
    "X = sm.add_constant(LOS_group['AgeOnAdmission'])  # adds intercept term\n",
    "y = LOS_group['Av LOS']\n",
    "\n",
    "# Fit model\n",
    "model = sm.OLS(y, X).fit()\n",
    "model.summary()"
   ]
  },
  {
   "cell_type": "markdown",
   "metadata": {},
   "source": [
    "<div class=\"alert alert-block alert-warning\">\n",
    "\n",
    "    --P-value a feature should have a p-value of less than 0.05 in order for us to regard it as significant in our model. A value higher than this is generally viewed to be stastically insignificant and it should be excluded from our explanitory variables\n",
    "    \n",
    "    -- R^2 is the coefficient of determination. It represents the proportion of variance in target variable due to the input variables."
   ]
  },
  {
   "cell_type": "code",
   "execution_count": 49,
   "metadata": {
    "scrolled": false
   },
   "outputs": [
    {
     "data": {
      "image/png": "[encoded data removed]",
      "text/plain": [
       "<Figure size 640x480 with 1 Axes>"
      ]
     },
     "metadata": {},
     "output_type": "display_data"
    }
   ],
   "source": [
    "# Using Matplotlib, pLot the model on the same chart as the data\n",
    "\n",
    "# set up for multiple plots\n",
    "fig, ax = plt.subplots()\n",
    "\n",
    "# Scatter plot\n",
    "ax.scatter(LOS_group['AgeOnAdmission'], LOS_group['Av LOS'])\n",
    "\n",
    "# Regression line on same axes\n",
    "sm.graphics.abline_plot(model_results=model, ax=ax, color='red')\n",
    "\n",
    "# display the plot\n",
    "plt.show()"
   ]
  },
  {
   "cell_type": "markdown",
   "metadata": {},
   "source": [
    "# Interpolation, Extrapolation and Outliers"
   ]
  },
  {
   "cell_type": "code",
   "execution_count": 64,
   "metadata": {
    "scrolled": false
   },
   "outputs": [
    {
     "data": {
      "image/png": "[encoded data removed]",
      "text/plain": [
       "<Figure size 640x480 with 1 Axes>"
      ]
     },
     "metadata": {},
     "output_type": "display_data"
    }
   ],
   "source": [
    "# load in the full data and display as a scatter plot\n",
    "\n",
    "LOS_full = pd.read_csv('data/AgeSeverity.csv')\n",
    "sns.scatterplot(data=LOS_full, x=\"AgeOnAdmission\", y=\"Av LOS\");"
   ]
  },
  {
   "cell_type": "code",
   "execution_count": 50,
   "metadata": {
    "scrolled": false
   },
   "outputs": [
    {
     "data": {
      "image/png": "[encoded data removed]",
      "text/plain": [
       "<Figure size 640x480 with 1 Axes>"
      ]
     },
     "metadata": {},
     "output_type": "display_data"
    }
   ],
   "source": [
    "# Using Matplotlib, pLot the model on the same chart as the data\n",
    "\n",
    "fig, ax = plt.subplots()\n",
    "\n",
    "# Scatter plot\n",
    "ax.scatter(df3['AgeOnAdmission'], df3['Av LOS'])\n",
    "\n",
    "# Regression line on same axes\n",
    "sm.graphics.abline_plot(model_results=model, ax=ax, color='red')\n",
    "\n",
    "# Set limits\n",
    "# ax.set(ylim=(2,11), xlim=(50,85))\n",
    "\n",
    "plt.show()"
   ]
  },
  {
   "cell_type": "markdown",
   "metadata": {},
   "source": [
    "<div class=\"alert alert-block alert-warning\">\n",
    "\n",
    "-**Extrapolation**\n",
    "    \n",
    "     --Here we can see the dangers of extrapolation.\n",
    "    -- This isdrawing conclusions or making predictions about data outside the range of what we have previoulsy seen\n",
    "    \n",
    "    \n",
    "    \n",
    "-**Solutions**\n",
    "     \n",
    "    --There are three distinct populations, roughly 0-50, 50-90 and 90+\n",
    "    --Different ways to model this are\n",
    "        --Piecewise, seperate Linear Models of each distinct population\n",
    "        --A Non-linear regression model\n",
    "    \n",
    "-**Outliers**\n",
    "    \n",
    "    -- Do you see any outliers?\n",
    "    -- What are the options for these?"
   ]
  },
  {
   "cell_type": "markdown",
   "metadata": {},
   "source": [
    "# Menti Quiz - retrival before generative\n",
    "https://www.researchgate.net/publication/360783515_Sequence_matters_Retrieval_practice_before_generative_learning_is_more_effective_than_the_reverse_order"
   ]
  },
  {
   "cell_type": "markdown",
   "metadata": {},
   "source": [
    "# Exercise - Break out rooms\n",
    "\n",
    "Examine the results in the tables in Annex E.\\\n",
    "Note the meaning of some of the P-values, Coefficient estimates and R^2 values.\\"
   ]
  },
  {
   "cell_type": "markdown",
   "metadata": {},
   "source": [
    "https://digital.nhs.uk/data-and-information/publications/statistical/dental-working-hours/2022-23-working-patterns-motivation-and-morale/annex-e---regression-analysis-and-key-assumptions"
   ]
  },
  {
   "cell_type": "code",
   "execution_count": null,
   "metadata": {},
   "outputs": [],
   "source": []
  }
 ],
 "metadata": {
  "colab": {
   "collapsed_sections": [],
   "name": "Linear Regression.ipynb",
   "provenance": []
  },
  "kernelspec": {
   "display_name": "Python [conda env:base] *",
   "language": "python",
   "name": "conda-base-py"
  },
  "language_info": {
   "codemirror_mode": {
    "name": "ipython",
    "version": 3
   },
   "file_extension": ".py",
   "mimetype": "text/x-python",
   "name": "python",
   "nbconvert_exporter": "python",
   "pygments_lexer": "ipython3",
   "version": "3.12.3"
  },
  "toc": {
   "base_numbering": 1,
   "nav_menu": {},
   "number_sections": true,
   "sideBar": true,
   "skip_h1_title": false,
   "title_cell": "Table of Contents",
   "title_sidebar": "Contents",
   "toc_cell": false,
   "toc_position": {},
   "toc_section_display": true,
   "toc_window_display": false
  },
  "varInspector": {
   "cols": {
    "lenName": 16,
    "lenType": 16,
    "lenVar": 40
   },
   "kernels_config": {
    "python": {
     "delete_cmd_postfix": "",
     "delete_cmd_prefix": "del ",
     "library": "var_list.py",
     "varRefreshCmd": "print(var_dic_list())"
    },
    "r": {
     "delete_cmd_postfix": ") ",
     "delete_cmd_prefix": "rm(",
     "library": "var_list.r",
     "varRefreshCmd": "cat(var_dic_list()) "
    }
   },
   "types_to_exclude": [
    "module",
    "function",
    "builtin_function_or_method",
    "instance",
    "_Feature"
   ],
   "window_display": false
  }
 },
 "nbformat": 4,
 "nbformat_minor": 1
}
